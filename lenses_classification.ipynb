{
 "cells": [
  {
   "cell_type": "code",
   "execution_count": 1,
   "metadata": {
    "id": "u9shir90_MDC"
   },
   "outputs": [],
   "source": [
    "# import 套件\n",
    "# BLOCK 1用到的套件\n",
    "import numpy as np\n",
    "import matplotlib.pyplot as plt\n",
    "from pathlib import Path\n",
    "import os\n",
    "import cv2\n",
    "from tqdm import tqdm\n",
    "\n",
    "# BLOCK 2用到的套件\n",
    "import random\n",
    "\n",
    "# BLOCK 5 6 13 14用到的套件\n",
    "import pickle\n",
    "\n",
    "# BLOCK 7用到的套件\n",
    "import tensorflow as tf\n",
    "from tensorflow.keras.preprocessing.image import ImageDataGenerator\n",
    "from tensorflow.keras.models import Sequential\n",
    "from tensorflow.keras.layers import Dense, Dropout, Activation, Flatten\n",
    "from tensorflow.keras.layers import Conv2D, MaxPooling2D\n",
    "\n",
    "# BLOCK 8 9 10用到的套件\n",
    "import matplotlib.pyplot as plt\n",
    "\n",
    "# BLOCK 9用到的套件\n",
    "from sklearn import svm\n",
    "from sklearn import datasets\n",
    "\n",
    "# BLOCK 16用到的套件\n",
    "import csv"
   ]
  },
  {
   "cell_type": "code",
   "execution_count": 2,
   "metadata": {
    "id": "0Lmm9AdU9I_g"
   },
   "outputs": [],
   "source": [
    "# 路徑位置\n",
    "\n",
    "#填data training 檔案位置\n",
    "DATADIR = 'C:/Users/Gavin/Downloads/2021-dilated-pupils/CCLdata/train/'\n",
    "\n",
    "# 照片大小 長寬100px\n",
    "IMG_SIZE=100\n",
    "\n",
    "\n",
    "# 照片分類\n",
    "CATEGORIES = [\"Without_CCL\", \"With_CCL\"]\n",
    "\n",
    "# X.pickle 會在.ipynb的路徑上\n",
    "X_pickle_path = 'C:/Windows/System32/0409/X.pickle'\n",
    "\n",
    "# Y.pickle 會在.ipynb的路徑上\n",
    "Y_pickle_path = 'C:/Windows/System32/0409/y.pickle'\n",
    "\n",
    "Z_pickle_path = 'C:/Windows/System32/0409/Z.pickle'\n",
    "\n",
    "# BLOCK 11 有要測試檔案的位址\n",
    "# BLOCK 16 有要檔案輸出至csv的位址"
   ]
  },
  {
   "cell_type": "code",
   "execution_count": 3,
   "metadata": {
    "id": "iSC-nXTw9I_m",
    "outputId": "fabf85ac-fff1-4e20-d89b-9d971519c2b0"
   },
   "outputs": [
    {
     "name": "stderr",
     "output_type": "stream",
     "text": [
      "100%|█████████████████████████████████████████████████████████████████████████████| 1100/1100 [00:02<00:00, 374.49it/s]\n",
      "100%|█████████████████████████████████████████████████████████████████████████████| 1100/1100 [00:02<00:00, 385.24it/s]"
     ]
    },
    {
     "name": "stdout",
     "output_type": "stream",
     "text": [
      "2200\n"
     ]
    },
    {
     "name": "stderr",
     "output_type": "stream",
     "text": [
      "\n"
     ]
    }
   ],
   "source": [
    "# BLOCK 1\n",
    "training_data = []\n",
    "\n",
    "def create_training_data():\n",
    "    for category in CATEGORIES:  # do With_CCL and Without_CCL\n",
    "\n",
    "        path = os.path.join(DATADIR,category)  # create path to With_CCL and Without_CCL\n",
    "        class_num = CATEGORIES.index(category)  # get the classification  (0 or a 1). 0=Without_CCL 1=With_CCL\n",
    "\n",
    "        for img in tqdm(os.listdir(path)):  # iterate over each image per With_CCL and Without_CCL\n",
    "            try:\n",
    "                img_array = cv2.imread(os.path.join(path,img) ,cv2.IMREAD_GRAYSCALE)  # convert to array\n",
    "                new_array = cv2.resize(img_array, (IMG_SIZE, IMG_SIZE))  # resize to normalize data size\n",
    "                training_data.append([new_array, class_num])  # add this to our training_data\n",
    "            except Exception as e:  # in the interest in keeping the output clean...\n",
    "                pass       \n",
    "\n",
    "create_training_data()\n",
    "print(len(training_data))"
   ]
  },
  {
   "cell_type": "code",
   "execution_count": 4,
   "metadata": {
    "id": "WlTEFGyZ9I_o"
   },
   "outputs": [],
   "source": [
    "# BLOCK 2\n",
    "random.shuffle(training_data)"
   ]
  },
  {
   "cell_type": "code",
   "execution_count": 5,
   "metadata": {
    "id": "YlFk_R069I_p",
    "outputId": "728512f6-4151-4e88-eb29-19a7a0c69815"
   },
   "outputs": [
    {
     "name": "stdout",
     "output_type": "stream",
     "text": [
      "1 0 1 0 1 1 1 0 1 1 "
     ]
    }
   ],
   "source": [
    "# BLOCK 3\n",
    "for sample in training_data[:10]:\n",
    "    print(sample[1], end=\" \")"
   ]
  },
  {
   "cell_type": "code",
   "execution_count": 6,
   "metadata": {
    "id": "3HUAYNYK9I_q",
    "outputId": "cd6ba797-3e19-4fe0-96c5-dfb0ec12044b"
   },
   "outputs": [
    {
     "name": "stdout",
     "output_type": "stream",
     "text": [
      "[[[[255]\n",
      "   [255]\n",
      "   [255]\n",
      "   ...\n",
      "   [227]\n",
      "   [233]\n",
      "   [221]]\n",
      "\n",
      "  [[255]\n",
      "   [255]\n",
      "   [255]\n",
      "   ...\n",
      "   [228]\n",
      "   [226]\n",
      "   [225]]\n",
      "\n",
      "  [[255]\n",
      "   [255]\n",
      "   [255]\n",
      "   ...\n",
      "   [207]\n",
      "   [205]\n",
      "   [202]]\n",
      "\n",
      "  ...\n",
      "\n",
      "  [[255]\n",
      "   [255]\n",
      "   [255]\n",
      "   ...\n",
      "   [231]\n",
      "   [238]\n",
      "   [230]]\n",
      "\n",
      "  [[255]\n",
      "   [255]\n",
      "   [255]\n",
      "   ...\n",
      "   [238]\n",
      "   [236]\n",
      "   [232]]\n",
      "\n",
      "  [[255]\n",
      "   [255]\n",
      "   [255]\n",
      "   ...\n",
      "   [238]\n",
      "   [236]\n",
      "   [229]]]]\n"
     ]
    }
   ],
   "source": [
    "# BLOCK 4\n",
    "X = []\n",
    "y = []\n",
    "\n",
    "for features,label in training_data:\n",
    "    X.append(features)\n",
    "    y.append(label)\n",
    "\n",
    "print(X[0].reshape(-1, IMG_SIZE, IMG_SIZE, 1))\n",
    "\n",
    "X = np.array(X).reshape(-1, IMG_SIZE, IMG_SIZE, 1)"
   ]
  },
  {
   "cell_type": "code",
   "execution_count": 7,
   "metadata": {
    "id": "7VWATstC9I_r"
   },
   "outputs": [],
   "source": [
    "# BLOCK 5\n",
    "pickle_out = open(\"X.pickle\",\"wb\")\n",
    "pickle.dump(X, pickle_out)\n",
    "pickle_out.close()\n",
    "\n",
    "pickle_out = open(\"y.pickle\",\"wb\")\n",
    "pickle.dump(y, pickle_out)\n",
    "pickle_out.close()"
   ]
  },
  {
   "cell_type": "code",
   "execution_count": 8,
   "metadata": {
    "id": "TbpgnPbBUFo9"
   },
   "outputs": [],
   "source": [
    "# BLOCK 6\n",
    "pickle_in = open(X_pickle_path,\"rb\")\n",
    "X = pickle.load(pickle_in)\n",
    "\n",
    "pickle_in = open(Y_pickle_path,\"rb\")\n",
    "y = pickle.load(pickle_in)"
   ]
  },
  {
   "cell_type": "code",
   "execution_count": 9,
   "metadata": {
    "colab": {
     "base_uri": "https://localhost:8080/"
    },
    "id": "7RofpdaWUeVa",
    "outputId": "73305cb1-ebd6-4aff-b28d-550abe80ead7",
    "scrolled": true
   },
   "outputs": [
    {
     "name": "stdout",
     "output_type": "stream",
     "text": [
      "Epoch 1/30\n",
      "55/55 [==============================] - 18s 330ms/step - loss: 0.6967 - accuracy: 0.4972 - val_loss: 0.6929 - val_accuracy: 0.4750\n",
      "Epoch 2/30\n",
      "55/55 [==============================] - 19s 339ms/step - loss: 0.6151 - accuracy: 0.6381 - val_loss: 0.5139 - val_accuracy: 0.7864\n",
      "Epoch 3/30\n",
      "55/55 [==============================] - 18s 334ms/step - loss: 0.4428 - accuracy: 0.8091 - val_loss: 0.4452 - val_accuracy: 0.8273\n",
      "Epoch 4/30\n",
      "55/55 [==============================] - 18s 336ms/step - loss: 0.3826 - accuracy: 0.8295 - val_loss: 0.3213 - val_accuracy: 0.8705\n",
      "Epoch 5/30\n",
      "55/55 [==============================] - 18s 327ms/step - loss: 0.3478 - accuracy: 0.8534 - val_loss: 0.2824 - val_accuracy: 0.8909\n",
      "Epoch 6/30\n",
      "55/55 [==============================] - 19s 338ms/step - loss: 0.3105 - accuracy: 0.8784 - val_loss: 0.3160 - val_accuracy: 0.8818\n",
      "Epoch 7/30\n",
      "55/55 [==============================] - 18s 327ms/step - loss: 0.2726 - accuracy: 0.8903 - val_loss: 0.2645 - val_accuracy: 0.9000\n",
      "Epoch 8/30\n",
      "55/55 [==============================] - 18s 325ms/step - loss: 0.2909 - accuracy: 0.8750 - val_loss: 0.2742 - val_accuracy: 0.8932\n",
      "Epoch 9/30\n",
      "55/55 [==============================] - 18s 325ms/step - loss: 0.2610 - accuracy: 0.8926 - val_loss: 0.2668 - val_accuracy: 0.9000\n",
      "Epoch 10/30\n",
      "55/55 [==============================] - 18s 325ms/step - loss: 0.2412 - accuracy: 0.9114 - val_loss: 0.2908 - val_accuracy: 0.8955\n",
      "Epoch 11/30\n",
      "55/55 [==============================] - 18s 325ms/step - loss: 0.2208 - accuracy: 0.9023 - val_loss: 0.2504 - val_accuracy: 0.9114\n",
      "Epoch 12/30\n",
      "55/55 [==============================] - 19s 340ms/step - loss: 0.2095 - accuracy: 0.9148 - val_loss: 0.2621 - val_accuracy: 0.8955\n",
      "Epoch 13/30\n",
      "55/55 [==============================] - 19s 341ms/step - loss: 0.1714 - accuracy: 0.9318 - val_loss: 0.2323 - val_accuracy: 0.9091\n",
      "Epoch 14/30\n",
      "55/55 [==============================] - 18s 332ms/step - loss: 0.1554 - accuracy: 0.9364 - val_loss: 0.2620 - val_accuracy: 0.9068\n",
      "Epoch 15/30\n",
      "55/55 [==============================] - 19s 338ms/step - loss: 0.1676 - accuracy: 0.9312 - val_loss: 0.2427 - val_accuracy: 0.8818\n",
      "Epoch 16/30\n",
      "55/55 [==============================] - 19s 342ms/step - loss: 0.1091 - accuracy: 0.9568 - val_loss: 0.2253 - val_accuracy: 0.9114\n",
      "Epoch 17/30\n",
      "55/55 [==============================] - 19s 339ms/step - loss: 0.1122 - accuracy: 0.9563 - val_loss: 0.2286 - val_accuracy: 0.9136\n",
      "Epoch 18/30\n",
      "55/55 [==============================] - 18s 334ms/step - loss: 0.0996 - accuracy: 0.9665 - val_loss: 0.2465 - val_accuracy: 0.9250\n",
      "Epoch 19/30\n",
      "55/55 [==============================] - 19s 341ms/step - loss: 0.0815 - accuracy: 0.9733 - val_loss: 0.2387 - val_accuracy: 0.9045\n",
      "Epoch 20/30\n",
      "55/55 [==============================] - 19s 340ms/step - loss: 0.0509 - accuracy: 0.9784 - val_loss: 0.3010 - val_accuracy: 0.9023\n",
      "Epoch 21/30\n",
      "55/55 [==============================] - 19s 340ms/step - loss: 0.0338 - accuracy: 0.9875 - val_loss: 0.2778 - val_accuracy: 0.9159\n",
      "Epoch 22/30\n",
      "55/55 [==============================] - 19s 344ms/step - loss: 0.0411 - accuracy: 0.9835 - val_loss: 0.2618 - val_accuracy: 0.9205\n",
      "Epoch 23/30\n",
      "55/55 [==============================] - 19s 342ms/step - loss: 0.0410 - accuracy: 0.9869 - val_loss: 0.3702 - val_accuracy: 0.9000\n",
      "Epoch 24/30\n",
      "55/55 [==============================] - 18s 331ms/step - loss: 0.0261 - accuracy: 0.9920 - val_loss: 0.3136 - val_accuracy: 0.9045\n",
      "Epoch 25/30\n",
      "55/55 [==============================] - 18s 332ms/step - loss: 0.0077 - accuracy: 0.9983 - val_loss: 0.2845 - val_accuracy: 0.9273\n",
      "Epoch 26/30\n",
      "55/55 [==============================] - 19s 346ms/step - loss: 0.0088 - accuracy: 0.9977 - val_loss: 0.3395 - val_accuracy: 0.9205\n",
      "Epoch 27/30\n",
      "55/55 [==============================] - 18s 331ms/step - loss: 0.1538 - accuracy: 0.9528 - val_loss: 0.3144 - val_accuracy: 0.8864\n",
      "Epoch 28/30\n",
      "55/55 [==============================] - 18s 329ms/step - loss: 0.0669 - accuracy: 0.9739 - val_loss: 0.2784 - val_accuracy: 0.9182\n",
      "Epoch 29/30\n",
      "55/55 [==============================] - 18s 328ms/step - loss: 0.0192 - accuracy: 0.9943 - val_loss: 0.3297 - val_accuracy: 0.9273\n",
      "Epoch 30/30\n",
      "55/55 [==============================] - 19s 341ms/step - loss: 0.0117 - accuracy: 0.9966 - val_loss: 0.2982 - val_accuracy: 0.9159\n"
     ]
    }
   ],
   "source": [
    "# BLOCK 7\n",
    "gpus = tf.config.experimental.list_physical_devices('GPU')\n",
    "if gpus:\n",
    "  # Restrict TensorFlow to only use the first GPU\n",
    "  try:\n",
    "    tf.config.experimental.set_visible_devices(gpus[0], 'GPU')\n",
    "    logical_gpus = tf.config.experimental.list_logical_devices('GPU')\n",
    "    print(len(gpus), \"Physical GPUs,\", len(logical_gpus), \"Logical GPU\")\n",
    "  except RuntimeError as e:\n",
    "    # Visible devices must be set before GPUs have been initialized\n",
    "    print(e)\n",
    "\n",
    "X = X/255.0\n",
    "\n",
    "y = np.array(y)\n",
    "\n",
    "model = Sequential()\n",
    "\n",
    "model.add(Conv2D(128, (3, 3), input_shape=(IMG_SIZE,IMG_SIZE,1)))\n",
    "model.add(Activation('relu'))\n",
    "model.add(MaxPooling2D(pool_size=(2, 2)))\n",
    "\n",
    "model.add(Conv2D(128, (3, 3)))\n",
    "model.add(Activation('relu'))\n",
    "model.add(MaxPooling2D(pool_size=(2, 2)))\n",
    "\n",
    "model.add(Conv2D(128, (3, 3)))\n",
    "model.add(Activation('relu'))\n",
    "model.add(MaxPooling2D(pool_size=(2, 2)))\n",
    "\n",
    "model.add(Conv2D(128, (3, 3)))\n",
    "model.add(Activation('relu'))\n",
    "model.add(MaxPooling2D(pool_size=(2, 2)))\n",
    "\n",
    "\n",
    "model.add(Flatten())  # this converts our 3D feature maps to 1D feature vectors\n",
    "\n",
    "model.add(Dense(64))\n",
    "\n",
    "model.add(Dense(1))\n",
    "model.add(Activation('sigmoid'))\n",
    "\n",
    "model.compile(loss='binary_crossentropy',\n",
    "              optimizer='adam',\n",
    "              metrics=['accuracy'])\n",
    "\n",
    "train_history=model.fit(X, y, batch_size=32, epochs=30, validation_split=0.2)"
   ]
  },
  {
   "cell_type": "code",
   "execution_count": 19,
   "metadata": {
    "id": "vgj6mKvda2P1"
   },
   "outputs": [],
   "source": [
    "# BLOCK 8\n",
    "\n",
    "def show_train_history(train_acc,validation_acc):\n",
    "    plt.plot(train_history.history[train_acc])\n",
    "    plt.plot(train_history.history[validation_acc])\n",
    "    plt.title('Train History')\n",
    "    plt.ylabel('Accuracy')\n",
    "    plt.xlabel('Epoch')\n",
    "    plt.legend(['train', 'validation'], loc='upper left') "
   ]
  },
  {
   "cell_type": "code",
   "execution_count": 20,
   "metadata": {
    "id": "tXAHTHqEa2P2",
    "outputId": "3d616ef4-523f-4b46-c2db-2889148e0f3a",
    "scrolled": false
   },
   "outputs": [
    {
     "data": {
      "image/png": "[encoded data removed]",
      "text/plain": [
       "<Figure size 432x288 with 1 Axes>"
      ]
     },
     "metadata": {
      "needs_background": "light"
     },
     "output_type": "display_data"
    }
   ],
   "source": [
    "# BLOCK 9\n",
    "show_train_history('accuracy','val_accuracy')\n",
    "plt.show()"
   ]
  },
  {
   "cell_type": "code",
   "execution_count": 21,
   "metadata": {
    "id": "AqNbHpnKa2P2",
    "outputId": "8e2fc5e1-4017-4945-c08f-9fd14d064148",
    "scrolled": false
   },
   "outputs": [
    {
     "data": {
      "image/png": "[encoded data removed]",
      "text/plain": [
       "<Figure size 432x288 with 1 Axes>"
      ]
     },
     "metadata": {
      "needs_background": "light"
     },
     "output_type": "display_data"
    }
   ],
   "source": [
    "# BLOCK 10\n",
    "show_train_history('loss','val_loss')\n",
    "plt.ylabel('Loss')\n",
    "plt.show()"
   ]
  },
  {
   "cell_type": "code",
   "execution_count": 22,
   "metadata": {
    "id": "GsLzSuZ8a2P3",
    "outputId": "548f1578-17fd-4e9f-f074-e8da54e427cb"
   },
   "outputs": [
    {
     "name": "stderr",
     "output_type": "stream",
     "text": [
      "100%|██████████████████████████████████████████████████████████████████████████████████| 8/8 [00:00<00:00, 1604.25it/s]"
     ]
    },
    {
     "name": "stdout",
     "output_type": "stream",
     "text": [
      "8\n"
     ]
    },
    {
     "name": "stderr",
     "output_type": "stream",
     "text": [
      "\n"
     ]
    }
   ],
   "source": [
    "# BLOCK 11\n",
    "\n",
    "# 要測試檔案位置\n",
    "DATADIR_test = 'C:/Users/Gavin/Downloads/2021-dilated-pupils/CCLdata/demo'\n",
    "test_data = []\n",
    "def create_test_data():\n",
    "    \n",
    "        path = os.listdir(DATADIR_test)\n",
    "        path.sort()\n",
    "        path.sort(key=lambda x:int(x.split('.')[0]))\n",
    "       \n",
    "        for img in tqdm(path): \n",
    "            try:\n",
    "                img_array = cv2.imread(os.path.join(DATADIR_test,img) ,cv2.IMREAD_GRAYSCALE)  # convert to array\n",
    "                new_array = cv2.resize(img_array, (IMG_SIZE, IMG_SIZE))  # resize to normalize data size\n",
    "                test_data.append(new_array)  # add this to our test_data\n",
    "            except Exception as e:  # in the interest in keeping the output clean...\n",
    "                pass \n",
    "create_test_data()\n",
    "print(len(test_data))"
   ]
  },
  {
   "cell_type": "code",
   "execution_count": 23,
   "metadata": {
    "id": "m8o6uc5Ia2P4",
    "outputId": "0090816d-0ca6-49e8-f1ee-3609b6eab8c1",
    "scrolled": true
   },
   "outputs": [
    {
     "name": "stdout",
     "output_type": "stream",
     "text": [
      "[[[[ 46]\n",
      "   [ 48]\n",
      "   [ 50]\n",
      "   ...\n",
      "   [145]\n",
      "   [169]\n",
      "   [176]]\n",
      "\n",
      "  [[ 47]\n",
      "   [ 50]\n",
      "   [ 47]\n",
      "   ...\n",
      "   [207]\n",
      "   [166]\n",
      "   [180]]\n",
      "\n",
      "  [[ 44]\n",
      "   [ 48]\n",
      "   [ 50]\n",
      "   ...\n",
      "   [221]\n",
      "   [210]\n",
      "   [173]]\n",
      "\n",
      "  ...\n",
      "\n",
      "  [[100]\n",
      "   [ 95]\n",
      "   [ 99]\n",
      "   ...\n",
      "   [255]\n",
      "   [255]\n",
      "   [255]]\n",
      "\n",
      "  [[103]\n",
      "   [ 99]\n",
      "   [104]\n",
      "   ...\n",
      "   [255]\n",
      "   [255]\n",
      "   [255]]\n",
      "\n",
      "  [[100]\n",
      "   [ 98]\n",
      "   [101]\n",
      "   ...\n",
      "   [255]\n",
      "   [255]\n",
      "   [255]]]]\n"
     ]
    }
   ],
   "source": [
    "# BLOCK 12\n",
    "Z=[]\n",
    "for features in test_data:\n",
    "    Z.append(features)\n",
    "\n",
    "print(Z[0].reshape(-1, IMG_SIZE, IMG_SIZE, 1))\n",
    "Z = np.array(Z).reshape(-1, IMG_SIZE, IMG_SIZE, 1)"
   ]
  },
  {
   "cell_type": "code",
   "execution_count": 24,
   "metadata": {
    "id": "ccY_0eF9a2P5"
   },
   "outputs": [],
   "source": [
    "# BLOCK 13\n",
    "pickle_out = open(\"Z.pickle\",\"wb\")\n",
    "pickle.dump(Z, pickle_out)\n",
    "pickle_out.close()"
   ]
  },
  {
   "cell_type": "code",
   "execution_count": 25,
   "metadata": {
    "id": "kdkGiDdOa2P5"
   },
   "outputs": [],
   "source": [
    "# BLOCK 14\n",
    "pickle_in = open(Z_pickle_path,\"rb\")\n",
    "Z = pickle.load(pickle_in)\n",
    "Z_normalize = Z/255.0"
   ]
  },
  {
   "cell_type": "code",
   "execution_count": 26,
   "metadata": {
    "id": "InkDM2hca2P6",
    "outputId": "ec2fcd6a-58f5-4242-ef09-48d58e0f7c66"
   },
   "outputs": [
    {
     "name": "stdout",
     "output_type": "stream",
     "text": [
      "8\n"
     ]
    }
   ],
   "source": [
    "# BLOCK 15\n",
    "prediction=model.predict_classes(Z_normalize)\n",
    "print(len(prediction))"
   ]
  },
  {
   "cell_type": "code",
   "execution_count": 30,
   "metadata": {
    "id": "1TxrwuH5a2P7",
    "outputId": "0653682c-0a88-47ae-a1e9-47b8753c3d3f",
    "scrolled": false
   },
   "outputs": [
    {
     "name": "stdout",
     "output_type": "stream",
     "text": [
      "0.bmp With_CCL\n",
      "1.bmp Without_CCL\n",
      "2.bmp Without_CCL\n",
      "3.bmp With_CCL\n",
      "4.bmp Without_CCL\n",
      "5.bmp Without_CCL\n",
      "6.bmp Without_CCL\n",
      "7.bmp With_CCL\n"
     ]
    }
   ],
   "source": [
    "# BLOCK 16 檔案輸出至csv\n",
    "\n",
    "# csv 輸出檔案位置\n",
    "csv_output_path = 'C:/Users/Gavin/Downloads/2021-dilated-pupils/CCL_predict.csv'\n",
    "\n",
    "with open(csv_output_path, 'w', newline='') as csvfile:\n",
    "    # 建立csv檔寫入器\n",
    "    writer = csv.writer(csvfile)\n",
    "    # 寫入一列title\n",
    "    writer.writerow(['file name','predict result'])\n",
    "\n",
    "    index = 0\n",
    "    \n",
    "    for i in prediction:\n",
    "        if i == 1:\n",
    "            writer.writerow([str(index)+'.bmp','1']) #With_CCL\n",
    "            print(str(index)+'.bmp','With_CCL')\n",
    "           \n",
    "        else:\n",
    "            writer.writerow([str(index)+'.bmp','0']) #Without_CCL\n",
    "            print(str(index)+'.bmp','Without_CCL')\n",
    "        index = index + 1"
   ]
  },
  {
   "cell_type": "code",
   "execution_count": null,
   "metadata": {},
   "outputs": [],
   "source": []
  },
  {
   "cell_type": "code",
   "execution_count": null,
   "metadata": {},
   "outputs": [],
   "source": []
  }
 ],
 "metadata": {
  "accelerator": "GPU",
  "colab": {
   "collapsed_sections": [],
   "name": "tensorflow_Final_Version.ipynb",
   "provenance": []
  },
  "kernelspec": {
   "display_name": "Python 3",
   "language": "python",
   "name": "python3"
  },
  "language_info": {
   "codemirror_mode": {
    "name": "ipython",
    "version": 3
   },
   "file_extension": ".py",
   "mimetype": "text/x-python",
   "name": "python",
   "nbconvert_exporter": "python",
   "pygments_lexer": "ipython3",
   "version": "3.8.10"
  }
 },
 "nbformat": 4,
 "nbformat_minor": 1
}
